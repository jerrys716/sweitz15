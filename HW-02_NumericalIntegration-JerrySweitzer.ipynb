{
 "cells": [
  {
   "cell_type": "markdown",
   "metadata": {},
   "source": [
    "### <p style=\"text-align: right;\"> &#9989; Jerry Swetizer</p>"
   ]
  },
  {
   "cell_type": "markdown",
   "metadata": {},
   "source": [
    "# Homework Assignment #2 (Individual)\n",
    "\n",
    "\n",
    "### Goals for this homework assignment\n",
    "By the end of this assignment, you should be able to:\n",
    "* Write multiple functions for solving variations on a problem.\n",
    "* Continue working with writing your own python scripts.\n",
    "* Get some basic experience with numeric integration\n",
    "* Learn to generate HTML tables as results\n",
    "\n",
    "### Assignment instructions\n",
    "\n",
    "Work through the following assignment, making sure to follow all of the directions and answer all of the questions.\n",
    "\n",
    "There are **25 points** possible on this assignment. Point values for each part are included in the section headers.\n",
    "\n",
    "**This assignment is due at 11:59 pm on Friday, October 4.** It should be uploaded into the \"Homework Assignments\" submission folder for Homework #1.  Submission instructions can be found at the end of the notebook."
   ]
  },
  {
   "cell_type": "markdown",
   "metadata": {},
   "source": [
    "## Numeric Integration"
   ]
  },
  {
   "cell_type": "markdown",
   "metadata": {},
   "source": [
    "An integral is a mathematical object that can be interpreted as an area or a generalization of area. Integrals, together with derivatives, are the fundamental objects of calculus (wolfram mathworld, http://mathworld.wolfram.com/Integral.html). One is usually introduced to integration as determing the area under the curve formed by an function. These integrals come in two broad categories:\n",
    "\n",
    "* indefinite integrals. Here we can use mathematical formulas to determine the appropriate expression for the integral of a function. This can be difficult, if not impossible, to do for some functions.\n",
    "* definite integrals. We can use numeric techniques to evaluate definite integration, the area under the curve of a function within some limits. In using these techniques we trade accuracy for compute time but we can evaluate a broader range of functions using these techniques\n",
    "\n",
    "<img src=\"https://i.imgur.com/Mexbx67.png\" width=\"300\">\n"
   ]
  },
  {
   "cell_type": "markdown",
   "metadata": {},
   "source": [
    "The basis for these numeric integration approximations is the use of more and more accurate approximations of the curve in the provided region. We can use various approaches to provide these approximations and, in this homework, we are going to look specifically at three:\n",
    "\n",
    "* rectangle midpoint approximation\n",
    "* trapezoid approximation\n",
    "* piecewise quadratic curve appoximation"
   ]
  },
  {
   "cell_type": "markdown",
   "metadata": {},
   "source": [
    "### Rectangular Midpoint Approximation"
   ]
  },
  {
   "cell_type": "markdown",
   "metadata": {},
   "source": [
    "If we were to approximate the area under the curve of our function $f(x)$ with a single rectangle, such that the rectangle's width was the distance between $a$ and $b$ , our numeric limits, and the rectangle's height being value of $f(x)$ at the midpoint between $a$ and $b$, we would have a situation that looked something like the below.\n",
    "\n",
    "<img src=\"https://i.imgur.com/BMvdXw6.png\" width = \"300\">"
   ]
  },
  {
   "cell_type": "markdown",
   "metadata": {},
   "source": [
    "The area calculated is the $width * height$, an approximation of the area under $f(x)$. But we could probably do better by providing more, smaller, rectangles within the area between $a$ and $b$ to get a better approximation as shown below (from http://tutorial.math.lamar.edu/Classes/CalcII/ApproximatingDefIntegrals.aspx)\n",
    "\n",
    "<img src=\"https://i.imgur.com/NtlssoE.png\" width=\"400\">\n",
    "\n",
    "Here the range of numerical integration is from $x_1$ to $x_6$ and $x_i^*$ represents the midpoint value used to calculate the height of the rectangle, the value of $f(x_i^*)$ "
   ]
  },
  {
   "cell_type": "markdown",
   "metadata": {},
   "source": [
    "If we were to generalize for $n$ rectangles, each one of equal width, then the width (labeled $\\Delta x$) would be:\n",
    "\n",
    "$$ \\Delta x = \\frac{b-a}{n} $$\n",
    "\n",
    "and the formula for $n$ rectangles would be\n",
    "\n",
    "$$ \\int_a^b f(x) dx \\approx \\Delta x (f(x_1^*) + f(x_2^*) + \\ldots f(x_n^*)) $$"
   ]
  },
  {
   "cell_type": "markdown",
   "metadata": {},
   "source": [
    "###  *Exercise* : midpoint function (6 points)"
   ]
  },
  {
   "cell_type": "markdown",
   "metadata": {},
   "source": [
    "Write a function named `mid` that takes the following arguments:\n",
    "* a function to be integrated\n",
    "* the $a$ (lower) value of the integration limit\n",
    "* the $b$ (upper) value of the integration limit\n",
    "* the number of rectangles to be used in the approximation\n",
    "\n",
    "The output should be the area.\n",
    "\n",
    "Once you've written your function, **test it** by:\n",
    "1. Defining a second function that takes an variable $x$ as input and returns the value of $x^2$\n",
    "2. Pass your new function to your `mid` function along with the following arguments: $a = 0$, $b = 1$, and $n = 10$.\n",
    "\n",
    "The exact solution to this integral is $0.\\overline{3}$ (the \"3\" repeats indefinitely). How close is your solution?"
   ]
  },
  {
   "cell_type": "code",
   "execution_count": 1,
   "metadata": {},
   "outputs": [
    {
     "name": "stdout",
     "output_type": "stream",
     "text": [
      "The area estimated area underneath the curve x^2 was: 0.29907407407407405\n",
      "This is very close to the exact solution of 1/3. The reason this estimate is less than the actual, is because the function x^2 is concave up.\n"
     ]
    }
   ],
   "source": [
    "import numpy as np\n",
    "import math\n",
    "\n",
    "def mid(func,a,b,n):\n",
    "    deltax = (b-a)/n\n",
    "    fx = []\n",
    "    xvals = np.linspace(a,b,n)\n",
    "    midx = []\n",
    "    for l in range(len(xvals)-1):\n",
    "        newx = (xvals[l] + xvals[l+1])/2\n",
    "        midx.append(newx)\n",
    "   \n",
    "    for val in midx:\n",
    "        yval = func(val)\n",
    "        fx.append(yval)\n",
    "   \n",
    "    idk = sum(fx)\n",
    "    area = deltax*idk\n",
    "    return(area)\n",
    "def testfunc(x):\n",
    "    newval = x**2\n",
    "    return(newval)\n",
    "midint = mid(testfunc,0,1,10)\n",
    "print('The area estimated area underneath the curve x^2 was:', midint)\n",
    "print('This is very close to the exact solution of 1/3. The reason this estimate is less than the actual, is because the function x^2 is concave up.')"
   ]
  },
  {
   "cell_type": "markdown",
   "metadata": {},
   "source": [
    "## Trapezoid approximation "
   ]
  },
  {
   "cell_type": "markdown",
   "metadata": {},
   "source": [
    "Squares are OK but perhaps we can do better by trying to match the outline of the curve better for the top of each rectangle. We can do so by using a trapezoid instead of a square. \n",
    "\n",
    "<img src=\"https://i.imgur.com/WDvUyou.png\" width=\"300\">\n",
    "\n",
    "Here, for the single trapezoid, we join a line segment from $a$ to $b$. We then calculate the area of a trapezoid using the formula provided.\n",
    "\n",
    "As before though, more trapezoids would be better. If we use two trapezoids and, as before, we make equally wide trapezoids such that\n",
    "\n",
    "$$\\Delta x = \\frac{b-a}{2} $$\n",
    "\n",
    "and remember that the side represented by $mid$ in the figure is used by both trapezoids, we get the following situation\n",
    "\n",
    "<img src=\"https://i.imgur.com/ugoSCaY.png\" width=\"300\">\n",
    "\n",
    "Overall, the trapezoid for $n$ trapezoids would look like:\n",
    "\n",
    "$$\\int_a^b f(x) dx \\approx \\frac{\\Delta x}{2} * [(f(x_{0}) + f(x_{1}) + f(x_{1}) + f(x_{2}) + \\ldots + f(x_{n-1}) + f_x{n})] $$\n",
    "\n",
    "You could simplify this for your function below."
   ]
  },
  {
   "cell_type": "markdown",
   "metadata": {},
   "source": [
    "### *Exercise*: trapezoid function (6 pts)"
   ]
  },
  {
   "cell_type": "markdown",
   "metadata": {},
   "source": [
    "Write a function named `trap` that takes the following arguments:\n",
    "* a function to be integrated such as the $x^2$ function you used for Midpoint integration\n",
    "* the $a$ (lower) value of the integration limit\n",
    "* the $b$ (upper) value of the integration limit\n",
    "* the number of trapezoids to be used in the approximation\n",
    "\n",
    "The output should be the area. For $x^2$ the area between 0 and 1 should be about $0.\\overline{3}$"
   ]
  },
  {
   "cell_type": "code",
   "execution_count": 2,
   "metadata": {},
   "outputs": [
    {
     "name": "stdout",
     "output_type": "stream",
     "text": [
      "The estimated area underneath the curve using the trapazoid method is: 0.3018518518518518\n",
      "This area makes sense because the graph is concave up and increasing.\n"
     ]
    }
   ],
   "source": [
    "# write your code here\n",
    "def trap(func,a,b,n):\n",
    "    deltax = (b-a)/n\n",
    "    trapbase = []\n",
    "    xvals = np.linspace(a,b,n)\n",
    "    \n",
    "    for l in range(len(xvals)-1):\n",
    "        heights = func(xvals[l])+func(xvals[l+1])\n",
    "        trapbase.append(heights)\n",
    "    idk = sum(trapbase)\n",
    "    area = .5*idk*deltax\n",
    "    return(area)\n",
    "#taking the test function of x^2 from above\n",
    "trapint = trap(testfunc,0,1,10)\n",
    "print('The estimated area underneath the curve using the trapazoid method is:',trapint)\n",
    "print('This area makes sense because the graph is concave up and increasing.')"
   ]
  },
  {
   "cell_type": "markdown",
   "metadata": {},
   "source": [
    "## Quadratic Approximation, Simpson's rule"
   ]
  },
  {
   "cell_type": "markdown",
   "metadata": {},
   "source": [
    "Continuing with approximations, we try to refine our fit based not on straight lines but on curves. We generate a quadratic that passes through three points: the beginning, the midpoint and the end. In deriving this quadratic we are creating a parabola that passes through those three points.\n",
    "\n",
    "We do this for multiple quadratic fits. To make this work, we need to have an even number of areas to which we are trying to fit so that we can have 3 points as mentioned. The general idea would look something like the below (from http://tutorial.math.lamar.edu/Classes/CalcII/ApproximatingDefIntegrals.aspx)\n",
    ":\n",
    "<img src=\"https://i.imgur.com/wKJ44YI.png\" width=\"400\">\n",
    "\n",
    "There are multiple ways to derive a quadratic given three points. If you really would like to see a nice one, I would recommend \n",
    "\n",
    "https://math.libretexts.org/Courses/Mount_Royal_University/MATH_2200%3A_Calculus_for_Scientists_II/2%3A_Techniques_of_Integration/2.5%3A_Numerical_Integration_-_Midpoint%2C_Trapezoid%2C_Simpson%27s_rule \n",
    "\n",
    "Equation 2.5.8, 2/3 of the way down. They do a nice job of laying out the derivation.\n",
    "\n",
    "Given equal size elements such and an even number of slices\n",
    "\n",
    "$$ \\Delta x = \\frac{b-a}{2} $$\n",
    "\n",
    "then the overall equation would look like:\n",
    "\n",
    "$$ \\int_{a}^{b} f(x) dx \\approx \\frac{\\Delta x}{3} * [f(x_{0}) + 4f(x_{1}) + f(x_{2}) + f(x_2) + 4f(x_{3}) + f(x_{4}) \\ldots f(x_{n-2}) + 4f(x_{n-1}) + f(x_{n})] $$\n",
    "\n",
    "Again, you could simplify this for your function below."
   ]
  },
  {
   "cell_type": "markdown",
   "metadata": {},
   "source": [
    "### *Exercise* : Quadratic fit (6 pts)"
   ]
  },
  {
   "cell_type": "markdown",
   "metadata": {},
   "source": [
    "Write a function named `simpson` that takes the following arguments:\n",
    "* a function to be integrated ($x^2$ anyone??)\n",
    "* the $a$ (lower) value of the integration limit\n",
    "* the $b$ (upper) value of the integration limit\n",
    "* the number of curves/parabolas to be used in the approximation\n",
    "\n",
    "The output should be the area."
   ]
  },
  {
   "cell_type": "code",
   "execution_count": 7,
   "metadata": {},
   "outputs": [
    {
     "data": {
      "text/plain": [
       "0.3423868312757201"
      ]
     },
     "execution_count": 7,
     "metadata": {},
     "output_type": "execute_result"
    }
   ],
   "source": [
    "# write your answer here\n",
    "def simpson(func,a,b,n):\n",
    "    \n",
    "    deltax = (b-a)/n\n",
    "    xvals = np.linspace(a,b,n)\n",
    "    simpstuff = []\n",
    "    \n",
    "    for i in range(2,len(xvals)):\n",
    "        c0 = xvals[i]\n",
    "        c1 = xvals[i-1]\n",
    "        c2 = xvals[i-2]\n",
    "        idk = func(c0)+2*func(c1)+func(c2)\n",
    "        simpstuff.append(idk)\n",
    "    sumstuff = sum(simpstuff)\n",
    "    area = (deltax/3)*sumstuff\n",
    "    return(area)\n",
    "\n",
    "simpson(testfunc,0,1,10)"
   ]
  },
  {
   "cell_type": "markdown",
   "metadata": {},
   "source": [
    "### *Exercise* : Table of Values (7pts)"
   ]
  },
  {
   "cell_type": "markdown",
   "metadata": {},
   "source": [
    "Let's make an HTML table that can compare the different values for the three approaches for a particular function given a set number of equal sized sample. To display an HTML table in notebooks, look at https://nbviewer.jupyter.org/github/ipython/ipython/blob/4.0.x/examples/IPython%20Kernel/Rich%20Output.ipynb#HTML\n",
    "\n",
    "Write a function named `comparator` that takes the following arguments:\n",
    "* a function to be integrated\n",
    "* the actual value (pick a function where you know the actual value and provide the value here)\n",
    "* the $a$ (lower) value of the integration limit\n",
    "* the $b$ (upper) value of the integration limit\n",
    "* the next three provide a range of the number ($n$) of elements (rectangles, trapezoids, curves):\n",
    "  * start of the range\n",
    "  * end of the range\n",
    "  * increment"
   ]
  },
  {
   "cell_type": "code",
   "execution_count": 51,
   "metadata": {},
   "outputs": [],
   "source": [
    "# write your code here\n",
    "from IPython.display import display, HTML\n",
    "def comparator(func,val, a, b, ns, ne, inc):\n",
    "    midarea = []\n",
    "    traparea = []\n",
    "    curvearea = []\n",
    "    nvals = np.linspace(ns,ne,inc)\n",
    "    for i in range(len(nvals)):\n",
    "        n = nvals[i]\n",
    "        midpoint_n = mid(func,a,b,n)\n",
    "        trap_n = trap(func,a,b,n)\n",
    "        curve_n = simpson(func,a,b,n)\n",
    "        \n",
    "        midarea.append(midpoint_n)\n",
    "        traparea.append(trap_n)\n",
    "        curvearea.append(curve_n)\n",
    "        \n",
    "        s = \"\"\"\n",
    "        <table>\n",
    "        <tr>\n",
    "        <th>Number of Ns</th>\n",
    "        <th>Midpoint</th>\n",
    "        <th>Trapazoid</th>\n",
    "        <th>Simpson</th>\n",
    "        </tr>\n",
    "        <tr>\"\"\"\n",
    "    for x in range(len(midarea)):\n",
    "        s+= f\"<td>{nvals[x]}</td>\"\n",
    "        s+= f\"<td>{midarea[i]}</td>\"\n",
    "        s+= f\"<td>{traparea[i]}</td>\"\n",
    "        s+= f\"<td>{curvearea[i]}</td>\"\n",
    "        s+= \"</tr>\"\n",
    "        s+= \"<tr>\"\n",
    "\n",
    "    s+= \"</tr>\" \n",
    "    s+= \"</table>\"\n",
    "    h = HTML(s)\n",
    "    print('The actual value of the integral is:', val)\n",
    "    return(display(h))\n"
   ]
  },
  {
   "cell_type": "markdown",
   "metadata": {},
   "source": [
    "For a change of pace from $x^2$, how about the function was $x^3 - 6x^2 +4x + 12$. Its definite integral between 0 and 5 would be 16.25 (check out https://www.symbolab.com/solver/definite-integral-calculator/%5Cint_%7B0%7D%5E%7B5%7Dx%5E%7B3%7D-%206x%5E%7B2%7D%2B4x%20%2B%2012%20dx ) Show the results of all your work using the code below"
   ]
  },
  {
   "cell_type": "code",
   "execution_count": 52,
   "metadata": {},
   "outputs": [
    {
     "name": "stdout",
     "output_type": "stream",
     "text": [
      "9.959520784631923\n",
      "17.637696052421614\n",
      "13.004516882992927\n",
      "The actual value of the integral is: 16.25\n"
     ]
    },
    {
     "name": "stderr",
     "output_type": "stream",
     "text": [
      "C:\\Users\\Jerry Sweitzer\\Anaconda\\lib\\site-packages\\ipykernel_launcher.py:7: DeprecationWarning: object of type <class 'numpy.float64'> cannot be safely interpreted as an integer.\n",
      "  import sys\n",
      "C:\\Users\\Jerry Sweitzer\\Anaconda\\lib\\site-packages\\ipykernel_launcher.py:5: DeprecationWarning: object of type <class 'numpy.float64'> cannot be safely interpreted as an integer.\n",
      "  \"\"\"\n"
     ]
    },
    {
     "data": {
      "text/html": [
       "\n",
       "        <table>\n",
       "        <tr>\n",
       "        <th>Number of Ns</th>\n",
       "        <th>Midpoint</th>\n",
       "        <th>Trapazoid</th>\n",
       "        <th>Simpson</th>\n",
       "        </tr>\n",
       "        <tr><td>20.0</td><td>16.168357412060292</td><td>16.169535175879414</td><td>21.24583848892705</td></tr><tr><td>29.473684210526315</td><td>16.168357412060292</td><td>16.169535175879414</td><td>21.24583848892705</td></tr><tr><td>38.94736842105263</td><td>16.168357412060292</td><td>16.169535175879414</td><td>21.24583848892705</td></tr><tr><td>48.421052631578945</td><td>16.168357412060292</td><td>16.169535175879414</td><td>21.24583848892705</td></tr><tr><td>57.89473684210526</td><td>16.168357412060292</td><td>16.169535175879414</td><td>21.24583848892705</td></tr><tr><td>67.36842105263158</td><td>16.168357412060292</td><td>16.169535175879414</td><td>21.24583848892705</td></tr><tr><td>76.84210526315789</td><td>16.168357412060292</td><td>16.169535175879414</td><td>21.24583848892705</td></tr><tr><td>86.3157894736842</td><td>16.168357412060292</td><td>16.169535175879414</td><td>21.24583848892705</td></tr><tr><td>95.78947368421052</td><td>16.168357412060292</td><td>16.169535175879414</td><td>21.24583848892705</td></tr><tr><td>105.26315789473684</td><td>16.168357412060292</td><td>16.169535175879414</td><td>21.24583848892705</td></tr><tr><td>114.73684210526315</td><td>16.168357412060292</td><td>16.169535175879414</td><td>21.24583848892705</td></tr><tr><td>124.21052631578947</td><td>16.168357412060292</td><td>16.169535175879414</td><td>21.24583848892705</td></tr><tr><td>133.68421052631578</td><td>16.168357412060292</td><td>16.169535175879414</td><td>21.24583848892705</td></tr><tr><td>143.15789473684208</td><td>16.168357412060292</td><td>16.169535175879414</td><td>21.24583848892705</td></tr><tr><td>152.6315789473684</td><td>16.168357412060292</td><td>16.169535175879414</td><td>21.24583848892705</td></tr><tr><td>162.10526315789474</td><td>16.168357412060292</td><td>16.169535175879414</td><td>21.24583848892705</td></tr><tr><td>171.57894736842104</td><td>16.168357412060292</td><td>16.169535175879414</td><td>21.24583848892705</td></tr><tr><td>181.05263157894734</td><td>16.168357412060292</td><td>16.169535175879414</td><td>21.24583848892705</td></tr><tr><td>190.52631578947367</td><td>16.168357412060292</td><td>16.169535175879414</td><td>21.24583848892705</td></tr><tr><td>200.0</td><td>16.168357412060292</td><td>16.169535175879414</td><td>21.24583848892705</td></tr><tr></tr></table>"
      ],
      "text/plain": [
       "<IPython.core.display.HTML object>"
      ]
     },
     "metadata": {},
     "output_type": "display_data"
    }
   ],
   "source": [
    "# run this code to test all that you have done\n",
    "\n",
    "import math\n",
    "\n",
    "# 0 to 2 has the value 16.45262776\n",
    "def fn2 (x):\n",
    "    return math.exp(x*x)\n",
    "\n",
    "# 0 to 5 has the value 16.25\n",
    "def fn3(x):\n",
    "    return pow(x,3) - 6*pow(x,2) + 4*x + 12\n",
    "\n",
    "print(mid(fn2,0,2,4))\n",
    "print(trap(fn2, 0,2,4))\n",
    "print(simpson(fn2, 0,2, 4))\n",
    "\n",
    "comparator(fn3,16.25,0,5,20,200,20)"
   ]
  },
  {
   "cell_type": "markdown",
   "metadata": {},
   "source": [
    "---\n",
    "### Assignment wrap-up\n",
    "\n",
    "Please fill out the form that appears when you run the code below.  **You must completely fill this out in order to receive credit for the assignment!**"
   ]
  },
  {
   "cell_type": "code",
   "execution_count": null,
   "metadata": {},
   "outputs": [],
   "source": [
    "from IPython.display import HTML\n",
    "HTML(\n",
    "\"\"\"\n",
    "<iframe \n",
    "\tsrc=\"https://forms.gle/KgC5XuPeKQN6yfRQ9\" \n",
    "\twidth=\"800px\" \n",
    "\theight=\"600px\" \n",
    "\tframeborder=\"0\" \n",
    "\tmarginheight=\"0\" \n",
    "\tmarginwidth=\"0\">\n",
    "\tLoading...\n",
    "</iframe>\n",
    "\"\"\"\n",
    ")"
   ]
  },
  {
   "cell_type": "markdown",
   "metadata": {},
   "source": [
    "### Congratulations, you're done!\n",
    "\n",
    "Submit this assignment by uploading it to the course Desire2Learn web page.  Go to the \"Homework Assignments\" folder, find the appropriate dropbox link, and upload it there."
   ]
  },
  {
   "cell_type": "markdown",
   "metadata": {},
   "source": [
    "&#169; Copyright 2019,  Michigan State University Board of Trustees"
   ]
  }
 ],
 "metadata": {
  "kernelspec": {
   "display_name": "Python 3",
   "language": "python",
   "name": "python3"
  },
  "language_info": {
   "codemirror_mode": {
    "name": "ipython",
    "version": 3
   },
   "file_extension": ".py",
   "mimetype": "text/x-python",
   "name": "python",
   "nbconvert_exporter": "python",
   "pygments_lexer": "ipython3",
   "version": "3.7.1"
  }
 },
 "nbformat": 4,
 "nbformat_minor": 4
}
